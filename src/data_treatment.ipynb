{
 "metadata": {
  "language_info": {
   "codemirror_mode": {
    "name": "ipython",
    "version": 3
   },
   "file_extension": ".py",
   "mimetype": "text/x-python",
   "name": "python",
   "nbconvert_exporter": "python",
   "pygments_lexer": "ipython3",
   "version": "3.7.4-final"
  },
  "orig_nbformat": 2,
  "kernelspec": {
   "name": "Python 3.7.4 64-bit ('base': conda)",
   "display_name": "Python 3.7.4 64-bit ('base': conda)",
   "metadata": {
    "interpreter": {
     "hash": "4fca0eae666ee8a363f6e42c2ce25cbdba496d9098d60dd72f409fa19626efc9"
    }
   }
  }
 },
 "nbformat": 4,
 "nbformat_minor": 2,
 "cells": [
  {
   "cell_type": "code",
   "execution_count": 6,
   "metadata": {
    "tags": []
   },
   "outputs": [
    {
     "output_type": "stream",
     "name": "stdout",
     "text": "Requirement already satisfied: Matplotlib==3.3.1 in /home/taurus/anaconda3/lib/python3.7/site-packages (from -r requirements.txt (line 1)) (3.3.1)\nCollecting keras==2.4.3\n  Using cached Keras-2.4.3-py2.py3-none-any.whl (36 kB)\nRequirement already satisfied: numpy==1.18.0 in /home/taurus/anaconda3/lib/python3.7/site-packages (from -r requirements.txt (line 3)) (1.18.0)\nCollecting tensorflow-cpu==2.3.0\n  Using cached tensorflow_cpu-2.3.0-cp37-cp37m-manylinux2010_x86_64.whl (137.3 MB)\nRequirement already satisfied: torch==1.6.0 in /home/taurus/anaconda3/lib/python3.7/site-packages (from -r requirements.txt (line 5)) (1.6.0)\nRequirement already satisfied: certifi>=2020.06.20 in /home/taurus/anaconda3/lib/python3.7/site-packages (from Matplotlib==3.3.1->-r requirements.txt (line 1)) (2020.6.20)\nRequirement already satisfied: python-dateutil>=2.1 in /home/taurus/anaconda3/lib/python3.7/site-packages (from Matplotlib==3.3.1->-r requirements.txt (line 1)) (2.8.0)\nRequirement already satisfied: cycler>=0.10 in /home/taurus/anaconda3/lib/python3.7/site-packages (from Matplotlib==3.3.1->-r requirements.txt (line 1)) (0.10.0)\nRequirement already satisfied: pyparsing!=2.0.4,!=2.1.2,!=2.1.6,>=2.0.3 in /home/taurus/anaconda3/lib/python3.7/site-packages (from Matplotlib==3.3.1->-r requirements.txt (line 1)) (2.4.2)\nRequirement already satisfied: pillow>=6.2.0 in /home/taurus/anaconda3/lib/python3.7/site-packages (from Matplotlib==3.3.1->-r requirements.txt (line 1)) (6.2.0)\nRequirement already satisfied: kiwisolver>=1.0.1 in /home/taurus/anaconda3/lib/python3.7/site-packages (from Matplotlib==3.3.1->-r requirements.txt (line 1)) (1.1.0)\nRequirement already satisfied: scipy>=0.14 in /home/taurus/anaconda3/lib/python3.7/site-packages (from keras==2.4.3->-r requirements.txt (line 2)) (1.3.1)\nRequirement already satisfied: pyyaml in /home/taurus/anaconda3/lib/python3.7/site-packages (from keras==2.4.3->-r requirements.txt (line 2)) (5.1.2)\nRequirement already satisfied: h5py in /home/taurus/anaconda3/lib/python3.7/site-packages (from keras==2.4.3->-r requirements.txt (line 2)) (2.9.0)\nCollecting opt-einsum>=2.3.2\n  Using cached opt_einsum-3.3.0-py3-none-any.whl (65 kB)\nCollecting protobuf>=3.9.2\n  Using cached protobuf-3.13.0-cp37-cp37m-manylinux1_x86_64.whl (1.3 MB)\nRequirement already satisfied: six>=1.12.0 in /home/taurus/anaconda3/lib/python3.7/site-packages (from tensorflow-cpu==2.3.0->-r requirements.txt (line 4)) (1.12.0)\nCollecting astunparse==1.6.3\n  Using cached astunparse-1.6.3-py2.py3-none-any.whl (12 kB)\nCollecting absl-py>=0.7.0\n  Using cached absl_py-0.10.0-py3-none-any.whl (127 kB)\nCollecting google-pasta>=0.1.8\n  Using cached google_pasta-0.2.0-py3-none-any.whl (57 kB)\nCollecting tensorboard<3,>=2.3.0\n  Using cached tensorboard-2.3.0-py3-none-any.whl (6.8 MB)\nRequirement already satisfied: wrapt>=1.11.1 in /home/taurus/anaconda3/lib/python3.7/site-packages (from tensorflow-cpu==2.3.0->-r requirements.txt (line 4)) (1.11.2)\nCollecting grpcio>=1.8.6\n  Using cached grpcio-1.32.0-cp37-cp37m-manylinux2014_x86_64.whl (3.8 MB)\nProcessing /home/taurus/.cache/pip/wheels/3f/e3/ec/8a8336ff196023622fbcb36de0c5a5c218cbb24111d1d4c7f2/termcolor-1.1.0-py3-none-any.whl\nCollecting tensorflow-estimator<2.4.0,>=2.3.0\n  Using cached tensorflow_estimator-2.3.0-py2.py3-none-any.whl (459 kB)\nRequirement already satisfied: wheel>=0.26 in /home/taurus/anaconda3/lib/python3.7/site-packages (from tensorflow-cpu==2.3.0->-r requirements.txt (line 4)) (0.33.6)\nCollecting keras-preprocessing<1.2,>=1.1.1\n  Using cached Keras_Preprocessing-1.1.2-py2.py3-none-any.whl (42 kB)\nCollecting gast==0.3.3\n  Using cached gast-0.3.3-py2.py3-none-any.whl (9.7 kB)\nRequirement already satisfied: future in /home/taurus/anaconda3/lib/python3.7/site-packages (from torch==1.6.0->-r requirements.txt (line 5)) (0.17.1)\nRequirement already satisfied: setuptools in /home/taurus/anaconda3/lib/python3.7/site-packages (from kiwisolver>=1.0.1->Matplotlib==3.3.1->-r requirements.txt (line 1)) (50.3.0)\nRequirement already satisfied: werkzeug>=0.11.15 in /home/taurus/anaconda3/lib/python3.7/site-packages (from tensorboard<3,>=2.3.0->tensorflow-cpu==2.3.0->-r requirements.txt (line 4)) (0.16.0)\nCollecting google-auth<2,>=1.6.3\n  Using cached google_auth-1.21.3-py2.py3-none-any.whl (93 kB)\nCollecting markdown>=2.6.8\n  Using cached Markdown-3.2.2-py3-none-any.whl (88 kB)\nRequirement already satisfied: requests<3,>=2.21.0 in /home/taurus/anaconda3/lib/python3.7/site-packages (from tensorboard<3,>=2.3.0->tensorflow-cpu==2.3.0->-r requirements.txt (line 4)) (2.24.0)\nCollecting tensorboard-plugin-wit>=1.6.0\n  Using cached tensorboard_plugin_wit-1.7.0-py3-none-any.whl (779 kB)\nCollecting google-auth-oauthlib<0.5,>=0.4.1\n  Using cached google_auth_oauthlib-0.4.1-py2.py3-none-any.whl (18 kB)\nCollecting pyasn1-modules>=0.2.1\n  Using cached pyasn1_modules-0.2.8-py2.py3-none-any.whl (155 kB)\nCollecting rsa<5,>=3.1.4; python_version >= \"3.5\"\n  Using cached rsa-4.6-py3-none-any.whl (47 kB)\nCollecting cachetools<5.0,>=2.0.0\n  Using cached cachetools-4.1.1-py3-none-any.whl (10 kB)\nRequirement already satisfied: importlib-metadata; python_version < \"3.8\" in /home/taurus/anaconda3/lib/python3.7/site-packages (from markdown>=2.6.8->tensorboard<3,>=2.3.0->tensorflow-cpu==2.3.0->-r requirements.txt (line 4)) (0.23)\nRequirement already satisfied: chardet<4,>=3.0.2 in /home/taurus/anaconda3/lib/python3.7/site-packages (from requests<3,>=2.21.0->tensorboard<3,>=2.3.0->tensorflow-cpu==2.3.0->-r requirements.txt (line 4)) (3.0.4)\nRequirement already satisfied: idna<3,>=2.5 in /home/taurus/anaconda3/lib/python3.7/site-packages (from requests<3,>=2.21.0->tensorboard<3,>=2.3.0->tensorflow-cpu==2.3.0->-r requirements.txt (line 4)) (2.8)\nRequirement already satisfied: urllib3!=1.25.0,!=1.25.1,<1.26,>=1.21.1 in /home/taurus/anaconda3/lib/python3.7/site-packages (from requests<3,>=2.21.0->tensorboard<3,>=2.3.0->tensorflow-cpu==2.3.0->-r requirements.txt (line 4)) (1.24.2)\nCollecting requests-oauthlib>=0.7.0\n  Using cached requests_oauthlib-1.3.0-py2.py3-none-any.whl (23 kB)\nCollecting pyasn1<0.5.0,>=0.4.6\n  Using cached pyasn1-0.4.8-py2.py3-none-any.whl (77 kB)\nRequirement already satisfied: zipp>=0.5 in /home/taurus/anaconda3/lib/python3.7/site-packages (from importlib-metadata; python_version < \"3.8\"->markdown>=2.6.8->tensorboard<3,>=2.3.0->tensorflow-cpu==2.3.0->-r requirements.txt (line 4)) (0.6.0)\nCollecting oauthlib>=3.0.0\n  Using cached oauthlib-3.1.0-py2.py3-none-any.whl (147 kB)\nRequirement already satisfied: more-itertools in /home/taurus/anaconda3/lib/python3.7/site-packages (from zipp>=0.5->importlib-metadata; python_version < \"3.8\"->markdown>=2.6.8->tensorboard<3,>=2.3.0->tensorflow-cpu==2.3.0->-r requirements.txt (line 4)) (7.2.0)\nInstalling collected packages: keras, opt-einsum, protobuf, astunparse, absl-py, google-pasta, pyasn1, pyasn1-modules, rsa, cachetools, google-auth, markdown, grpcio, tensorboard-plugin-wit, oauthlib, requests-oauthlib, google-auth-oauthlib, tensorboard, termcolor, tensorflow-estimator, keras-preprocessing, gast, tensorflow-cpu\n\u001b[31mERROR: After October 2020 you may experience errors when installing or updating packages. This is because pip will change the way that it resolves dependency conflicts.\n\nWe recommend you use --use-feature=2020-resolver to test your packages with the new resolver before it becomes the default.\n\ntensorflow-cpu 2.3.0 requires h5py<2.11.0,>=2.10.0, but you'll have h5py 2.9.0 which is incompatible.\ntensorflow-cpu 2.3.0 requires scipy==1.4.1, but you'll have scipy 1.3.1 which is incompatible.\u001b[0m\nSuccessfully installed absl-py-0.10.0 astunparse-1.6.3 cachetools-4.1.1 gast-0.3.3 google-auth-1.21.3 google-auth-oauthlib-0.4.1 google-pasta-0.2.0 grpcio-1.32.0 keras-2.4.3 keras-preprocessing-1.1.2 markdown-3.2.2 oauthlib-3.1.0 opt-einsum-3.3.0 protobuf-3.13.0 pyasn1-0.4.8 pyasn1-modules-0.2.8 requests-oauthlib-1.3.0 rsa-4.6 tensorboard-2.3.0 tensorboard-plugin-wit-1.7.0 tensorflow-cpu-2.3.0 tensorflow-estimator-2.3.0 termcolor-1.1.0\n"
    }
   ],
   "source": [
    "!pip install -r requirements.txt"
   ]
  },
  {
   "cell_type": "code",
   "execution_count": 13,
   "metadata": {},
   "outputs": [
    {
     "output_type": "error",
     "ename": "ModuleNotFoundError",
     "evalue": "No module named 'torch.utilis'",
     "traceback": [
      "\u001b[0;31m---------------------------------------------------------------------------\u001b[0m",
      "\u001b[0;31mModuleNotFoundError\u001b[0m                       Traceback (most recent call last)",
      "\u001b[0;32m<ipython-input-13-fad92a53833a>\u001b[0m in \u001b[0;36m<module>\u001b[0;34m\u001b[0m\n\u001b[1;32m      5\u001b[0m \u001b[0;32mfrom\u001b[0m \u001b[0msklearn\u001b[0m\u001b[0;34m.\u001b[0m\u001b[0mmodel_selection\u001b[0m \u001b[0;32mimport\u001b[0m \u001b[0mtrain_test_split\u001b[0m\u001b[0;34m\u001b[0m\u001b[0;34m\u001b[0m\u001b[0m\n\u001b[1;32m      6\u001b[0m \u001b[0;32mfrom\u001b[0m \u001b[0mkeras\u001b[0m\u001b[0;34m.\u001b[0m\u001b[0mpreprocessing\u001b[0m\u001b[0;34m.\u001b[0m\u001b[0msequence\u001b[0m \u001b[0;32mimport\u001b[0m \u001b[0mpad_sequences\u001b[0m\u001b[0;34m\u001b[0m\u001b[0;34m\u001b[0m\u001b[0m\n\u001b[0;32m----> 7\u001b[0;31m \u001b[0;32mfrom\u001b[0m \u001b[0mtorch\u001b[0m\u001b[0;34m.\u001b[0m\u001b[0mutilis\u001b[0m\u001b[0;34m.\u001b[0m\u001b[0mdata\u001b[0m \u001b[0;32mimport\u001b[0m \u001b[0mTensorDataset\u001b[0m\u001b[0;34m,\u001b[0m \u001b[0mrandom_split\u001b[0m\u001b[0;34m,\u001b[0m \u001b[0mDataLoader\u001b[0m\u001b[0;34m,\u001b[0m \u001b[0mRandomSampler\u001b[0m\u001b[0;34m,\u001b[0m \u001b[0mSequentialSampler\u001b[0m\u001b[0;34m\u001b[0m\u001b[0;34m\u001b[0m\u001b[0m\n\u001b[0m\u001b[1;32m      8\u001b[0m \u001b[0;32mimport\u001b[0m \u001b[0mtime\u001b[0m\u001b[0;34m\u001b[0m\u001b[0;34m\u001b[0m\u001b[0m\n",
      "\u001b[0;31mModuleNotFoundError\u001b[0m: No module named 'torch.utilis'"
     ]
    }
   ],
   "source": [
    "import numpy as np\n",
    "#import logging\n",
    "#import matplotlib.pyplot as plt\n",
    "#import seaborn as sns\n",
    "#from sklearn.model_selection import train_test_split\n",
    "# keras.preprocessing.sequence import pad_sequences\n",
    "#from torch.utilis.data import TensorDataset, random_split, DataLoader, RandomSampler, SequentialSampler\n",
    "#import time"
   ]
  },
  {
   "cell_type": "code",
   "execution_count": 12,
   "metadata": {
    "tags": []
   },
   "outputs": [
    {
     "output_type": "stream",
     "name": "stdout",
     "text": "\u001b[31mERROR: Could not find a version that satisfies the requirement torch.utilis (from versions: none)\u001b[0m\n\u001b[31mERROR: No matching distribution found for torch.utilis\u001b[0m\n"
    }
   ],
   "source": [
    "!pip install --upgrade torch.utilis"
   ]
  },
  {
   "cell_type": "code",
   "execution_count": null,
   "metadata": {},
   "outputs": [],
   "source": []
  }
 ]
}